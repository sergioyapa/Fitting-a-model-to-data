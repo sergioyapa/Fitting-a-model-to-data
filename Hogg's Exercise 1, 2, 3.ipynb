{
 "cells": [
  {
   "cell_type": "markdown",
   "metadata": {},
   "source": [
    "# University of Arizona - Department of Physics\n",
    "\n",
    "## PHYS 599 - Independent Study (Prof. Eduardo Rozo)\n",
    "\n",
    "### Sergio Yanez-Pagans\n",
    "\n",
    "> In this document I review and solve (with help of Jingwei Liu) the exercises proposed in the paper: \n",
    "> - Hogg, D.W., Bovy, J. and Lang, D., 2010. Data analysis recipes: Fitting a model to data. arXiv preprint arXiv:1008.4686.\n",
    "> https://arxiv.org/pdf/1008.4686.pdf\n",
    "---------------"
   ]
  },
  {
   "cell_type": "markdown",
   "metadata": {},
   "source": [
    "## 1 Standard practice"
   ]
  },
  {
   "cell_type": "markdown",
   "metadata": {},
   "source": [
    "<b>Exercise 1:</b> Using the standard linear algebra method of this Section, fit the straight line y = mx + b to the x, y, and σy values for data points 5 through 20 in Table 1 on page 6. That is, ignore the first four data points, and also ignore the columns for σx and ρxy. Make a plot showing the points, their uncertainties, and the best-fit line. Your plot should end up looking like Figure 1. What is the standard uncertainty variance σm2 on the slope of the line?"
   ]
  },
  {
   "cell_type": "code",
   "execution_count": 1,
   "metadata": {
    "collapsed": true
   },
   "outputs": [],
   "source": [
    "##################################################################\n",
    "# We import all the possible modules we could need for the problem\n",
    "##################################################################\n",
    "from numpy import *\n",
    "from numpy.linalg import *\n",
    "import numpy as np\n",
    "import matplotlib.pyplot as plt\n",
    "import linecache\n",
    "import sys\n",
    "import os \n",
    "import random"
   ]
  },
  {
   "cell_type": "code",
   "execution_count": 2,
   "metadata": {
    "collapsed": true
   },
   "outputs": [],
   "source": [
    "####################################################################################\n",
    "# We read the data from a text file using \"generate from text\" from the numpy module\n",
    "####################################################################################\n",
    "\n",
    "#We skip the first 4 lines of the data fot this exercise\n",
    "ID = np.genfromtxt('hoggs_data.txt',usecols = (0,))[4:]\n",
    "x_data = np.genfromtxt('hoggs_data.txt',usecols = (1,))[4:]\n",
    "y_data = np.genfromtxt('hoggs_data.txt',usecols = (2,))[4:]\n",
    "std_y_data = np.genfromtxt('hoggs_data.txt',usecols = (3,))[4:]\n",
    "std_x_data = np.genfromtxt('hoggs_data.txt',usecols = (4,))[4:]\n",
    "rho_xy_data = np.genfromtxt('hoggs_data.txt',usecols = (5,))[4:]"
   ]
  },
  {
   "cell_type": "code",
   "execution_count": 3,
   "metadata": {},
   "outputs": [
    {
     "name": "stdout",
     "output_type": "stream",
     "text": [
      "b = 34.047727757544635 ; m = 2.239920831631082\n",
      "Δb =  18.246166749268145 ; Δm = 0.10778047654050057\n"
     ]
    }
   ],
   "source": [
    "#################################################################################################\n",
    "# We seek a best linear fit (find the parameters) to  minimize the objective function Chi-Squared\n",
    "#################################################################################################\n",
    "\n",
    "#Following the notation of the paper, we create the matrices A, C (Covariance Matrix), X (Parameters Model)\n",
    "Y = np.array(y_data)[np.newaxis].T\n",
    "A = np.append(np.ones([len(x_data),1]),np.array(x_data)[np.newaxis].T,1)\n",
    "C = np.diag((std_y_data)**2)\n",
    "\n",
    "#The parameters (b, m) and their uncertainties can be calculated as:\n",
    "cov_matrix = inv(np.linalg.multi_dot([A.T, inv(C), A]))\n",
    "b, m = np.dot(cov_matrix, np.linalg.multi_dot([A.T, inv(C), Y]))\n",
    "uncs = np.sqrt(np.diagonal(cov_matrix)) #Uncertainties\n",
    "b = float(b)\n",
    "m = float(m)\n",
    "delta_b = float(uncs[0])\n",
    "delta_m = float(uncs[1])\n",
    "print('b =',b, '; m =',m)\n",
    "print('Δb = ',delta_b, '; Δm =',delta_m)"
   ]
  },
  {
   "cell_type": "code",
   "execution_count": 4,
   "metadata": {
    "scrolled": true
   },
   "outputs": [
    {
     "data": {
      "image/png": "[encoded data removed]",
      "text/plain": [
       "<matplotlib.figure.Figure at 0x10ce377b8>"
      ]
     },
     "metadata": {},
     "output_type": "display_data"
    }
   ],
   "source": [
    "########################################\n",
    "# We plot the data and the best fit line\n",
    "########################################\n",
    "%matplotlib inline\n",
    "plt.rc(\"text\", usetex=True)\n",
    "plt.rc(\"font\", size=20)\n",
    "plt.rc(\"errorbar\", capsize=2)\n",
    "domain = np.linspace(0, 300, 100)\n",
    "model = m*domain + b\n",
    "plt.errorbar(x_data, y_data, std_y_data, 0, fmt='o', marker='o', c='m')\n",
    "plt.plot(domain, model, ls='-', c='k')\n",
    "plt.text(60,60,'$y = (%.2f \\pm %.2f) x + (%.0f \\pm %.0f)$'%(m,delta_m,b,delta_b))\n",
    "plt.xlabel(r\"$x$\")\n",
    "plt.ylabel(r\"$y$\")\n",
    "plt.xlim(0, 300)\n",
    "plt.ylim(0, 800)\n",
    "plt.show()"
   ]
  },
  {
   "cell_type": "markdown",
   "metadata": {},
   "source": [
    "<b>Exercise 2:</b> Repeat Exercise 1 but for all the data points in Table 1 on page 6. Your plot should end up looking like Figure 2. What is the standard uncertainty variance σm2 on the slope of the line? Is there anything you don’t like about the result? Is there anything different about the new points you have included beyond those used in Exercise 1?"
   ]
  },
  {
   "cell_type": "code",
   "execution_count": 5,
   "metadata": {
    "collapsed": true
   },
   "outputs": [],
   "source": [
    "##########################################################################################\n",
    "# We read the whole data from a text file using \"generate from text\" from the numpy module\n",
    "##########################################################################################\n",
    "ID = np.genfromtxt('hoggs_data.txt',usecols = (0,))\n",
    "x_data = np.genfromtxt('hoggs_data.txt',usecols = (1,))\n",
    "y_data = np.genfromtxt('hoggs_data.txt',usecols = (2,))\n",
    "std_y_data = np.genfromtxt('hoggs_data.txt',usecols = (3,))\n",
    "std_x_data = np.genfromtxt('hoggs_data.txt',usecols = (4,))\n",
    "rho_xy_data = np.genfromtxt('hoggs_data.txt',usecols = (5,))"
   ]
  },
  {
   "cell_type": "code",
   "execution_count": 6,
   "metadata": {},
   "outputs": [
    {
     "name": "stdout",
     "output_type": "stream",
     "text": [
      "b = 213.2734919759605 ; m = 1.0767475241683258\n",
      "Δb =  14.3940331071622 ; Δm = 0.07740678316575603\n"
     ]
    }
   ],
   "source": [
    "#################################################################################################\n",
    "# We seek a best linear fit (find the parameters) to  minimize the objective function Chi-Squared\n",
    "#################################################################################################\n",
    "\n",
    "#Following the notation of the paper, we create the matrices A, C (Covariance Matrix), X (Parameters Model)\n",
    "Y = np.array(y_data)[np.newaxis].T\n",
    "A = np.append(np.ones([len(x_data),1]),np.array(x_data)[np.newaxis].T,1)\n",
    "C = np.diag((std_y_data)**2)\n",
    "\n",
    "#The parameters (b, m) and their uncertainties can be calculated as:\n",
    "cov_matrix = inv(np.linalg.multi_dot([A.T, inv(C), A]))\n",
    "b, m = np.dot(cov_matrix, np.linalg.multi_dot([A.T, inv(C), Y]))\n",
    "uncs = np.sqrt(np.diagonal(cov_matrix)) #Uncertainties\n",
    "b = float(b)\n",
    "m = float(m)\n",
    "delta_b = float(uncs[0])\n",
    "delta_m = float(uncs[1])\n",
    "print('b =',b, '; m =',m)\n",
    "print('Δb = ',delta_b, '; Δm =',delta_m)"
   ]
  },
  {
   "cell_type": "code",
   "execution_count": 7,
   "metadata": {},
   "outputs": [
    {
     "data": {
      "image/png": "[encoded data removed]",
      "text/plain": [
       "<matplotlib.figure.Figure at 0x112624f98>"
      ]
     },
     "metadata": {},
     "output_type": "display_data"
    }
   ],
   "source": [
    "########################################\n",
    "# We plot the data and the best fit line\n",
    "########################################\n",
    "%matplotlib inline\n",
    "plt.rc(\"text\", usetex=True)\n",
    "plt.rc(\"font\", size=20)\n",
    "plt.rc(\"errorbar\", capsize=2)\n",
    "domain = np.linspace(0, 300, 100)\n",
    "model = m*domain + b\n",
    "plt.errorbar(x_data, y_data, std_y_data, 0, fmt='o', marker='o', c='g')\n",
    "plt.plot(domain, model, ls='-', c='k')\n",
    "plt.text(60,60,'$y = (%.2f \\pm %.2f) x + (%.0f \\pm %.0f)$'%(m,delta_m,b,delta_b))\n",
    "plt.xlabel(r\"$x$\")\n",
    "plt.ylabel(r\"$y$\")\n",
    "plt.xlim(0, 300)\n",
    "plt.ylim(0, 800)\n",
    "plt.show()"
   ]
  },
  {
   "cell_type": "markdown",
   "metadata": {},
   "source": [
    "<b>Exercise 3:</b> Generalize the method of this Section to fit a general quadratic (second order) relationship. Add another column to matrix A containing the values x2i , and another element to vector X (call it q). Then re-do Exercise 1 but fitting for and plotting the best quadratic relationship: g(x)=qx2 +mx+b ."
   ]
  },
  {
   "cell_type": "code",
   "execution_count": 8,
   "metadata": {
    "collapsed": true
   },
   "outputs": [],
   "source": [
    "####################################################################################\n",
    "# We read the data from a text file using \"generate from text\" from the numpy module\n",
    "####################################################################################\n",
    "\n",
    "#We skip the first 4 lines of the data fot this exercise\n",
    "ID = np.genfromtxt('hoggs_data.txt',usecols = (0,))[4:]\n",
    "x_data = np.genfromtxt('hoggs_data.txt',usecols = (1,))[4:]\n",
    "y_data = np.genfromtxt('hoggs_data.txt',usecols = (2,))[4:]\n",
    "std_y_data = np.genfromtxt('hoggs_data.txt',usecols = (3,))[4:]\n",
    "std_x_data = np.genfromtxt('hoggs_data.txt',usecols = (4,))[4:]\n",
    "rho_xy_data = np.genfromtxt('hoggs_data.txt',usecols = (5,))[4:]"
   ]
  },
  {
   "cell_type": "code",
   "execution_count": 9,
   "metadata": {},
   "outputs": [
    {
     "name": "stdout",
     "output_type": "stream",
     "text": [
      "b = 72.89462647167966 ; m = 1.5960504522743122 ; q = 0.0022988884081227567\n",
      "Δb =  38.91155519455501 ; Δm = 0.5797479125174211 ; Δq = 0.0020338587087390878\n"
     ]
    }
   ],
   "source": [
    "#################################################################################################\n",
    "# We seek a best cuadratic fit (find the parameters) to  minimize the objective function Chi-Squared\n",
    "#################################################################################################\n",
    "\n",
    "#Following the notation of the paper, we create the matrices A, C (Covariance Matrix), X (Parameters Model)\n",
    "Y = np.array(y_data)[np.newaxis].T\n",
    "A = np.append(np.append(np.ones([len(x_data),1]),np.array(x_data)[np.newaxis].T,1),np.array(x_data**2)[np.newaxis].T,1)\n",
    "C = np.diag((std_y_data)**2)\n",
    "\n",
    "#The parameters (b, m) and their uncertainties can be calculated as:\n",
    "cov_matrix = inv(np.linalg.multi_dot([A.T, inv(C), A]))\n",
    "b, m, q = np.dot(cov_matrix, np.linalg.multi_dot([A.T, inv(C), Y]))\n",
    "uncs = np.sqrt(np.diagonal(cov_matrix)) #Uncertainties\n",
    "b = float(b)\n",
    "m = float(m)\n",
    "q = float(q)\n",
    "delta_b = float(uncs[0])\n",
    "delta_m = float(uncs[1])\n",
    "delta_q = float(uncs[2])\n",
    "print('b =',b, '; m =',m, '; q =',q)\n",
    "print('Δb = ',delta_b, '; Δm =',delta_m, '; Δq =',delta_q)"
   ]
  },
  {
   "cell_type": "code",
   "execution_count": 10,
   "metadata": {},
   "outputs": [
    {
     "data": {
      "image/png": "[encoded data removed]",
      "text/plain": [
       "<matplotlib.figure.Figure at 0x115c34898>"
      ]
     },
     "metadata": {},
     "output_type": "display_data"
    }
   ],
   "source": [
    "########################################\n",
    "# We plot the data and the best fit line\n",
    "########################################\n",
    "%matplotlib inline\n",
    "plt.rc(\"text\", usetex=True)\n",
    "plt.rc(\"font\", size=14)\n",
    "plt.rc(\"errorbar\", capsize=2)\n",
    "domain = np.linspace(0, 300, 100)\n",
    "model = q*domain**2 + m*domain + b\n",
    "plt.errorbar(x_data, y_data, std_y_data, 0, fmt='o', marker='o', c='b')\n",
    "plt.plot(domain, model, ls='-', c='k')\n",
    "plt.text(8,25,'$y = (%.4f \\pm %.4f) x^2 + (%.2f \\pm %.2f) x + (%.0f \\pm %.0f)$'%(q,delta_q,m,delta_m,b,delta_b))\n",
    "plt.xlabel(r\"$x$\")\n",
    "plt.ylabel(r\"$y$\")\n",
    "plt.xlim(0, 300)\n",
    "plt.ylim(0, 700)\n",
    "plt.show()"
   ]
  }
 ],
 "metadata": {
  "kernelspec": {
   "display_name": "Python 3",
   "language": "python",
   "name": "python3"
  },
  "language_info": {
   "codemirror_mode": {
    "name": "ipython",
    "version": 3
   },
   "file_extension": ".py",
   "mimetype": "text/x-python",
   "name": "python",
   "nbconvert_exporter": "python",
   "pygments_lexer": "ipython3",
   "version": "3.6.1"
  }
 },
 "nbformat": 4,
 "nbformat_minor": 2
}
